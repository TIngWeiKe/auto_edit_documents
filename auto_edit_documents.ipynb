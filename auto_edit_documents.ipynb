{
 "cells": [
  {
   "cell_type": "code",
   "execution_count": 248,
   "metadata": {},
   "outputs": [],
   "source": [
    "from io import StringIO\n",
    "from selenium import webdriver\n",
    "from selenium.webdriver.common.action_chains import ActionChains\n",
    "from selenium.webdriver.support.ui import WebDriverWait\n",
    "from selenium.webdriver.common.by import By\n",
    "from selenium.webdriver.support import expected_conditions as EC\n",
    "from selenium.webdriver.common.keys import Keys\n",
    "from time import sleep\n",
    "from selenium.webdriver.support.select import Select\n",
    "from selenium.common.exceptions import NoSuchElementException   \n",
    "from selenium.common.exceptions import NoSuchWindowException   \n",
    "from pdfminer.pdfinterp import PDFResourceManager, PDFPageInterpreter\n",
    "from pdfminer.converter import TextConverter\n",
    "from pdfminer.layout import LAParams\n",
    "from pdfminer.pdfpage import PDFPage\n",
    "import os\n",
    "import sys"
   ]
  },
  {
   "cell_type": "code",
   "execution_count": 249,
   "metadata": {},
   "outputs": [
    {
     "name": "stderr",
     "output_type": "stream",
     "text": [
      "C:\\Users\\TFD\\Anaconda3\\lib\\site-packages\\ipykernel_launcher.py:6: DeprecationWarning: use options instead of chrome_options\n",
      "  \n"
     ]
    }
   ],
   "source": [
    "download_dir = \"C:\\\\Users\\\\TFD\\\\PDF\" # for linux/*nix, download_dir=\"/usr/Public\"\n",
    "options = webdriver.ChromeOptions()\n",
    "profile = {\"plugins.plugins_list\": [{\"enabled\": False, \"name\": \"Chrome PDF Viewer\"}], # Disable Chrome's PDF Viewer\n",
    "               \"download.default_directory\": download_dir , \"download.extensions_to_open\": \"applications/pdf\"}\n",
    "options.add_experimental_option(\"prefs\", profile)\n",
    "driver = webdriver.Chrome(\"C:\\\\Users\\\\TFD\\\\Anaconda3\\\\chromedriver.exe\", chrome_options=options)  # Optional argument, if not specified will search path.\n",
    "ActionChainsDriver = ActionChains(driver)\n",
    "wait = WebDriverWait(driver,10)"
   ]
  },
  {
   "cell_type": "code",
   "execution_count": 250,
   "metadata": {},
   "outputs": [],
   "source": [
    "driver.maximize_window()\n",
    "driver.get(\"https://ssopxy.gov.taipei/SSOPXY/Default.aspx\")\n",
    "id =('j0470@tfd.gov.tw')\n",
    "password = ('j180065@')"
   ]
  },
  {
   "cell_type": "code",
   "execution_count": 251,
   "metadata": {},
   "outputs": [],
   "source": [
    "driver.find_element_by_name('TextBox_userID').send_keys(id)"
   ]
  },
  {
   "cell_type": "code",
   "execution_count": 252,
   "metadata": {},
   "outputs": [],
   "source": [
    "driver.find_element_by_name('TextBox_userPwd').send_keys(password)"
   ]
  },
  {
   "cell_type": "code",
   "execution_count": 253,
   "metadata": {},
   "outputs": [],
   "source": [
    "driver.find_element_by_name('Button_Login').click()"
   ]
  },
  {
   "cell_type": "code",
   "execution_count": 254,
   "metadata": {},
   "outputs": [],
   "source": [
    "driver.find_element_by_class_name('category-button1').click()"
   ]
  },
  {
   "cell_type": "code",
   "execution_count": 255,
   "metadata": {},
   "outputs": [],
   "source": [
    "driver.find_element_by_css_selector('input[value=新公文系統]').click()"
   ]
  },
  {
   "cell_type": "code",
   "execution_count": 256,
   "metadata": {},
   "outputs": [
    {
     "name": "stdout",
     "output_type": "stream",
     "text": [
      "CDwindow-5F87882FCBF392EAEE94F00505CF3929\n"
     ]
    }
   ],
   "source": [
    "child = driver.window_handles[1]      \n",
    "driver.switch_to.window(child)\n",
    "print(child)"
   ]
  },
  {
   "cell_type": "code",
   "execution_count": 257,
   "metadata": {},
   "outputs": [],
   "source": [
    "driver.implicitly_wait(30)\n",
    "try:\n",
    "    element = WebDriverWait(driver, 10).until(\n",
    "        EC.presence_of_element_located((By.ID, \"toSaveCheck\"))   \n",
    "        \n",
    "    )\n",
    "finally:\n",
    "    driver.find_element_by_id('toSaveCheck').click()"
   ]
  },
  {
   "cell_type": "code",
   "execution_count": 258,
   "metadata": {},
   "outputs": [],
   "source": [
    "sleep(1)\n",
    "driver.find_element_by_id('menu1487').click()"
   ]
  },
  {
   "cell_type": "code",
   "execution_count": 259,
   "metadata": {},
   "outputs": [
    {
     "name": "stdout",
     "output_type": "stream",
     "text": [
      "https://doc.gov.taipei/tcqb/home/default.jsp#\n"
     ]
    }
   ],
   "source": [
    "print (driver.current_url)"
   ]
  },
  {
   "cell_type": "code",
   "execution_count": 260,
   "metadata": {},
   "outputs": [],
   "source": [
    "driver.switch_to.frame('dTreeContent')\n",
    "driver.find_element_by_name('conditionQueryAll').click()"
   ]
  },
  {
   "cell_type": "code",
   "execution_count": 261,
   "metadata": {},
   "outputs": [],
   "source": [
    "sleep(2)\n",
    "try:\n",
    "    element = WebDriverWait(driver, 10).until(\n",
    "        EC.presence_of_element_located((By.NAME, \"q_IO_DEP1_NO\"))   \n",
    "    )\n",
    "finally:\n",
    "    driver.find_element_by_xpath(\"//select[@name='q_epaper2']/option[text()='線上']\").click()"
   ]
  },
  {
   "cell_type": "code",
   "execution_count": 262,
   "metadata": {},
   "outputs": [],
   "source": [
    "#\"BDAW-第一救災救護大隊\"\n",
    "#\"BDAX-第二救災救護大隊\"\n",
    "#\"BDAY-第三救災救護大隊\"\n",
    "#\"BDAZ-第四救災救護大隊\"\n",
    "driver.find_element_by_xpath(\"//select[@name='q_IO_DEP1_NO']/option[@value='BDAZ']\").click()\n",
    "driver.find_element_by_xpath(\"//*[@id='qryModal']/div[2]/div/div[2]/div/div/div/table/tbody/tr[3]/td[4]/select/option[text()='電子收文']\").click()"
   ]
  },
  {
   "cell_type": "code",
   "execution_count": 263,
   "metadata": {},
   "outputs": [],
   "source": [
    "x = \"貴公司\"\n",
    "driver.find_element_by_name('q_ABSTRACT').clear()\n",
    "driver.find_element_by_name('q_ABSTRACT').send_keys(x)"
   ]
  },
  {
   "cell_type": "code",
   "execution_count": 264,
   "metadata": {},
   "outputs": [],
   "source": [
    "driver.find_element_by_name('querySubmit').click()"
   ]
  },
  {
   "cell_type": "code",
   "execution_count": 265,
   "metadata": {},
   "outputs": [],
   "source": [
    "def select_document():\n",
    "    sleep(1)\n",
    "    driver.switch_to.window(driver.window_handles[1])\n",
    "    driver.switch_to.frame('dTreeContent')\n",
    "    driver.find_element_by_id('table_f7').click()\n",
    "    driver.find_element_by_id('table_f7').click()\n",
    "    driver.find_element_by_xpath('//*[@id=\"listTBODY\"]/tr[1]/td[1]').click()\n",
    "    driver.find_element_by_name('000091902').click()"
   ]
  },
  {
   "cell_type": "code",
   "execution_count": 266,
   "metadata": {},
   "outputs": [],
   "source": [
    "def edit_case_number():\n",
    "    driver.find_element_by_css_selector('#u_caseno').clear()\n",
    "    driver.find_element_by_css_selector('#u_portfoliono').clear()\n",
    "    driver.find_element_by_xpath('//*[@id=\"query\"]').click()\n",
    "    sleep(2)\n",
    "    driver.switch_to.window(driver.window_handles[2])\n",
    "    def check_maximum_number():\n",
    "        if  driver.find_element_by_xpath('//*[@id=\"listTBODY\"]/tr[8]/td[6]').get_attribute('innerHTML') == \"999\":\n",
    "            m = driver.find_element_by_xpath('//*[@id=\"listTBODY\"]/tr[8]/td[5]').get_attribute('innerHTML')\n",
    "            driver.find_element_by_xpath('//*[@id=\"listTBODY\"]/tr[8]/td[6]').click()\n",
    "            driver.switch_to.window(driver.window_handles[1])\n",
    "            driver.switch_to.frame('dTreeContent')\n",
    "            driver.find_element_by_xpath('//*[@id=\"u_portfoliono\"]').clear()\n",
    "            driver.find_element_by_xpath('//*[@id=\"u_portfoliono\"]').send_keys(int(m)+1)\n",
    "            driver.find_element_by_xpath('//*[@id=\"updateBig\"]').click()\n",
    "            driver.switch_to.window(driver.window_handles[2])\n",
    "            driver.find_element_by_xpath('//*[@id=\"queryTitle\"]/table/tbody/tr[7]/td[2]/input').clear()\n",
    "            driver.switch_to.alert.accept()\n",
    "            driver.switch_to.window(driver.window_handles[2])\n",
    "            driver.find_element_by_xpath('//*[@id=\"queryTitle\"]/table/tbody/tr[8]/td[2]/input').clear()\n",
    "            driver.find_element_by_xpath('//*[@id=\"queryTitle\"]/table/tbody/tr[7]/td[2]/input').send_keys(int(m)+1)\n",
    "            driver.find_element_by_xpath('//*[@id=\"form1\"]/table/tbody/tr[2]/td/input[11]').click()\n",
    "            sleep(1)\n",
    "            driver.close()\n",
    "            print(\"已修改卷殼號\")\n",
    "            driver.switch_to.window(driver.window_handles[1])\n",
    "            driver.switch_to.frame('dTreeContent')\n",
    "            edit_case_number()\n",
    "        else:\n",
    "            driver.find_element_by_xpath('//*[@id=\"listTBODY\"]/tr[8]/td[6]').click()\n",
    "    check_maximum_number()       \n",
    "    #一大線上 '#listTBODY > tr:nth-child(2)'\n",
    "    #二大線上 '#listTBODY > tr:nth-child(4)'\n",
    "    #三大線上 '#listTBODY > tr:nth-child(6)'\n",
    "    #四大線上 '#listTBODY > tr:nth-child(8)'"
   ]
  },
  {
   "cell_type": "code",
   "execution_count": 267,
   "metadata": {},
   "outputs": [],
   "source": [
    "def get_PDF_string():\n",
    "    driver.switch_to.window(driver.window_handles[1])\n",
    "    driver.switch_to.frame('dTreeContent')\n",
    "    driver.find_element_by_xpath('//*[@id=\"queryTitle\"]/table/tbody/tr[5]/td[2]/input[3]').click()\n",
    "    child3 = driver.window_handles[2]\n",
    "    driver.switch_to.window(child3)\n",
    "    sleep(3)\n",
    "    def get_PDF_url():\n",
    "        source = driver.page_source\n",
    "        startPDF_url=source.find('blob:https://doc.')\n",
    "        namePDF_url =source.find('blob:https://doc.gov.taipei/')\n",
    "        EndPDF_url = source.find('\">',startPDF_url)\n",
    "        PDF_url =source[startPDF_url:EndPDF_url]\n",
    "        PDF_name = source[startPDF_url+28:EndPDF_url]\n",
    "        driver.get(PDF_url)\n",
    "        sleep(3)\n",
    "        return PDF_name\n",
    "        \n",
    "    def convert_pdf_to_txt(path):\n",
    "        rsrcmgr = PDFResourceManager()\n",
    "        retstr = StringIO()\n",
    "        codec = 'utf-8'\n",
    "        laparams = LAParams()\n",
    "        device = TextConverter(rsrcmgr, retstr, codec=codec, laparams=laparams)\n",
    "        fp = open(path, 'rb')\n",
    "        interpreter = PDFPageInterpreter(rsrcmgr, device)\n",
    "        password = \"\"\n",
    "        maxpages = 0\n",
    "        caching = True\n",
    "        pagenos=set()\n",
    "\n",
    "        for page in PDFPage.get_pages(fp, pagenos, maxpages=maxpages, password=password,caching=caching, check_extractable=True):\n",
    "            interpreter.process_page(page)\n",
    "\n",
    "        text = retstr.getvalue()\n",
    "\n",
    "        fp.close()\n",
    "        device.close()\n",
    "        retstr.close()\n",
    "        return text\n",
    "    try:\n",
    "        sleep(2)\n",
    "        p = get_PDF_url()\n",
    "    except:\n",
    "        sleep(2)\n",
    "        p = get_PDF_url()\n",
    "    PDF_path = \"PDF\\\\\"+ p + \".pdf\"\n",
    "    return convert_pdf_to_txt(PDF_path)\n",
    "    "
   ]
  },
  {
   "cell_type": "code",
   "execution_count": 268,
   "metadata": {},
   "outputs": [],
   "source": [
    "def edit_case_name_by_PDF():\n",
    "    companyName = pdfText[pdfText.find('正本：')+3:pdfText.find('副本：')]\n",
    "    print(companyName)\n",
    "    driver.switch_to.window(driver.window_handles[1])\n",
    "    driver.switch_to.frame('dTreeContent')\n",
    "    # 獲取原始案由\n",
    "    text = driver.find_element_by_id('u_abstractMain').get_attribute('value')\n",
    "    print(text)\n",
    "    #處理貴公司字串\n",
    "    text = text.replace('貴公司',companyName)\n",
    "    #處理查照字串\n",
    "    x= text.find(\"，復請查照\")\n",
    "    if x == - 1:\n",
    "        x=text.find(\"，請查照\")\n",
    "        if x == -1:\n",
    "            print(text)\n",
    "        else :\n",
    "            text = text.replace(text[x:x+4],\"\")\n",
    "            print(text)\n",
    "    else:\n",
    "        text = text.replace(text[x:x+5],\"\")\n",
    "        print(text)\n",
    "    print(text)\n",
    "    #處理統一編號\n",
    "    x=text.find(\"【分公司\")\n",
    "    if x == - 1:\n",
    "        x=text.find(\"（統一編號\")\n",
    "        if x == -1:\n",
    "            print(text)\n",
    "        else :\n",
    "            text = text.replace(text[x:x+15],\"\")\n",
    "            print(text)\n",
    "    else:\n",
    "        text = text.replace(text[x:x+18],\"\")\n",
    "        print(text)\n",
    "    print(text)\n",
    "    #處理隨案附告\n",
    "    x=text.find(\"另隨案附告\")\n",
    "    if x == -1:\n",
    "        x = text.find('隨案附告')\n",
    "        if x == - 1:\n",
    "            print(text)\n",
    "        else:\n",
    "            text = text.replace(text[x:len(text)],\"\")\n",
    "            print(text)\n",
    "    else:\n",
    "        text = text.replace(text[x:len(text)],\"\")\n",
    "    #處理句號後冗長語句\n",
    "    x= text.find('。')\n",
    "    if x +1 != len(text):\n",
    "        text = text.replace(text[x:len(text)-1],\"\")\n",
    "        print(text)\n",
    "    else:\n",
    "        print(text)\n",
    "\n",
    "    driver.find_element_by_id('u_abstractMain').clear()\n",
    "    driver.find_element_by_id('u_abstractMain').send_keys(text)"
   ]
  },
  {
   "cell_type": "code",
   "execution_count": 269,
   "metadata": {
    "scrolled": false
   },
   "outputs": [],
   "source": [
    "def check_number_of_attachment():\n",
    "    driver.switch_to.window(driver.window_handles[2])\n",
    "    driver.switch_to.default_content()\n",
    "    source = driver.page_source\n",
    "    z = 0\n",
    "    for x in range(4,47):\n",
    "        h = driver.find_element_by_id(\"ext-simplelistitem-\"+str(x)).get_attribute('style')\n",
    "        xh=h.find('-10000px')\n",
    "        if xh == -1:\n",
    "            print(x)\n",
    "            z +=1\n",
    "        else:\n",
    "            break\n",
    "    print(z)\n",
    "    if z !=0:\n",
    "        driver.switch_to.window(driver.window_handles[1])\n",
    "        driver.switch_to.frame('dTreeContent')\n",
    "        driver.find_element_by_name('u_mediunQty').clear()\n",
    "        driver.find_element_by_name('u_mediunQty').send_keys(z)\n",
    "        driver.switch_to.window(driver.window_handles[2])\n",
    "        print(\"已修改為\"+str(z)+\"份\")\n",
    "    else:\n",
    "        print('沒有附件要修改')\n",
    "    driver.close()\n",
    "    driver.switch_to.window(driver.window_handles[1])\n",
    "    driver.switch_to.frame('dTreeContent')\n"
   ]
  },
  {
   "cell_type": "code",
   "execution_count": 270,
   "metadata": {
    "scrolled": true
   },
   "outputs": [],
   "source": [
    "def check_insert_attach():\n",
    "    driver.find_element_by_id('insertAttach').click()\n",
    "    driver.switch_to.window(driver.window_handles[2])\n",
    "    s = driver.find_element_by_xpath('//*[@id=\"listTBODY\"]/tr/td').get_attribute('innerHTML')\n",
    "    if s != \"查無資料，請您重新輸入查詢條件！\":\n",
    "        driver.find_element_by_xpath('//*[@id=\"listTBODY\"]/tr/td[2]').click()\n",
    "        driver.find_element_by_xpath('//*[@id=\"spanDelete\"]/input').click()\n",
    "        driver.switch_to.alert.accept()\n",
    "        driver.switch_to.window(driver.window_handles[2])\n",
    "        print(\"已將登陸附件刪除\")\n",
    "    else: \n",
    "        print(\"確認無登錄附件\")\n",
    "    driver.close()\n",
    "    driver.switch_to.window(driver.window_handles[1])\n",
    "    driver.switch_to.frame('dTreeContent')"
   ]
  },
  {
   "cell_type": "code",
   "execution_count": null,
   "metadata": {
    "scrolled": false
   },
   "outputs": [
    {
     "name": "stdout",
     "output_type": "stream",
     "text": [
      "環康能有限公司\n",
      "貴公司申請設立、聘任經理人登記，准予登記（統一編號：50793717），隨案附告貴公司不同意營業場所查詢，請務必詳閱說明三、四、五相關事項，以保權益，請查照。\n",
      "環康能有限公司申請設立、聘任經理人登記，准予登記（統一編號：50793717），隨案附告環康能有限公司不同意營業場所查詢，請務必詳閱說明三、四、五相關事項，以保權益。\n",
      "環康能有限公司申請設立、聘任經理人登記，准予登記（統一編號：50793717），隨案附告環康能有限公司不同意營業場所查詢，請務必詳閱說明三、四、五相關事項，以保權益。\n",
      "環康能有限公司申請設立、聘任經理人登記，准予登記，隨案附告環康能有限公司不同意營業場所查詢，請務必詳閱說明三、四、五相關事項，以保權益。\n",
      "環康能有限公司申請設立、聘任經理人登記，准予登記，隨案附告環康能有限公司不同意營業場所查詢，請務必詳閱說明三、四、五相關事項，以保權益。\n",
      "環康能有限公司申請設立、聘任經理人登記，准予登記，\n",
      "環康能有限公司申請設立、聘任經理人登記，准予登記，\n",
      "0\n",
      "沒有附件要修改\n",
      "確認無登錄附件\n",
      "已編目0筆公文\n",
      "--------------------------------------------------------分隔線--------------------------------------------------------\n",
      "盛龍莊茶業股份有限公司代理人：黃麒紘會計師\n",
      "貴公司申請設立登記，准予登記（統一編號：50793499），隨案附告貴公司不同意營業場所審查，請務必詳閱說明三、四、五相關事項，以保權益。\n",
      "盛龍莊茶業股份有限公司代理人：黃麒紘會計師申請設立登記，准予登記（統一編號：50793499），隨案附告盛龍莊茶業股份有限公司代理人：黃麒紘會計師不同意營業場所審查，請務必詳閱說明三、四、五相關事項，以保權益。\n",
      "盛龍莊茶業股份有限公司代理人：黃麒紘會計師申請設立登記，准予登記（統一編號：50793499），隨案附告盛龍莊茶業股份有限公司代理人：黃麒紘會計師不同意營業場所審查，請務必詳閱說明三、四、五相關事項，以保權益。\n",
      "盛龍莊茶業股份有限公司代理人：黃麒紘會計師申請設立登記，准予登記，隨案附告盛龍莊茶業股份有限公司代理人：黃麒紘會計師不同意營業場所審查，請務必詳閱說明三、四、五相關事項，以保權益。\n",
      "盛龍莊茶業股份有限公司代理人：黃麒紘會計師申請設立登記，准予登記，隨案附告盛龍莊茶業股份有限公司代理人：黃麒紘會計師不同意營業場所審查，請務必詳閱說明三、四、五相關事項，以保權益。\n",
      "盛龍莊茶業股份有限公司代理人：黃麒紘會計師申請設立登記，准予登記，\n",
      "盛龍莊茶業股份有限公司代理人：黃麒紘會計師申請設立登記，准予登記，\n",
      "0\n",
      "沒有附件要修改\n",
      "確認無登錄附件\n",
      "已編目1筆公文\n",
      "--------------------------------------------------------分隔線--------------------------------------------------------\n",
      "安庭物業有限公司\n",
      "貴公司（統一編號：50780775）申請公司所營事業變更、董事地址變更、修正章程變更登記，准予登記。隨案附告貴公司不同意營業場所審查，請務必詳閱說明三、四、五相關事項，以保權益。\n",
      "安庭物業有限公司（統一編號：50780775）申請公司所營事業變更、董事地址變更、修正章程變更登記，准予登記。隨案附告安庭物業有限公司不同意營業場所審查，請務必詳閱說明三、四、五相關事項，以保權益。\n",
      "安庭物業有限公司（統一編號：50780775）申請公司所營事業變更、董事地址變更、修正章程變更登記，准予登記。隨案附告安庭物業有限公司不同意營業場所審查，請務必詳閱說明三、四、五相關事項，以保權益。\n",
      "安庭物業有限公司申請公司所營事業變更、董事地址變更、修正章程變更登記，准予登記。隨案附告安庭物業有限公司不同意營業場所審查，請務必詳閱說明三、四、五相關事項，以保權益。\n",
      "安庭物業有限公司申請公司所營事業變更、董事地址變更、修正章程變更登記，准予登記。隨案附告安庭物業有限公司不同意營業場所審查，請務必詳閱說明三、四、五相關事項，以保權益。\n",
      "安庭物業有限公司申請公司所營事業變更、董事地址變更、修正章程變更登記，准予登記。\n",
      "安庭物業有限公司申請公司所營事業變更、董事地址變更、修正章程變更登記，准予登記。\n",
      "0\n",
      "沒有附件要修改\n",
      "確認無登錄附件\n",
      "已編目2筆公文\n",
      "--------------------------------------------------------分隔線--------------------------------------------------------\n",
      "飛翔文教股份有限公司\n",
      "貴公司（統一編號：50762708）申請公司遷址變更登記，准予登記。隨案附告貴公司不同意營業場所查詢，請務必詳閱說明三、四、五相關事項，以保權益，請查照。\n",
      "飛翔文教股份有限公司（統一編號：50762708）申請公司遷址變更登記，准予登記。隨案附告飛翔文教股份有限公司不同意營業場所查詢，請務必詳閱說明三、四、五相關事項，以保權益。\n",
      "飛翔文教股份有限公司（統一編號：50762708）申請公司遷址變更登記，准予登記。隨案附告飛翔文教股份有限公司不同意營業場所查詢，請務必詳閱說明三、四、五相關事項，以保權益。\n",
      "飛翔文教股份有限公司申請公司遷址變更登記，准予登記。隨案附告飛翔文教股份有限公司不同意營業場所查詢，請務必詳閱說明三、四、五相關事項，以保權益。\n",
      "飛翔文教股份有限公司申請公司遷址變更登記，准予登記。隨案附告飛翔文教股份有限公司不同意營業場所查詢，請務必詳閱說明三、四、五相關事項，以保權益。\n",
      "飛翔文教股份有限公司申請公司遷址變更登記，准予登記。\n",
      "飛翔文教股份有限公司申請公司遷址變更登記，准予登記。\n",
      "0\n",
      "沒有附件要修改\n",
      "確認無登錄附件\n",
      "已編目3筆公文\n",
      "--------------------------------------------------------分隔線--------------------------------------------------------\n",
      "展育體育用品有限公司\n",
      "貴公司（統一編號：25140844）申請股東出資轉讓、公司遷址、修正章程變更登記，准予登記。隨案附告貴公司不同意審查營業場所，並請詳閱說明欄相關事項，以保障公司權益，請查照。\n",
      "展育體育用品有限公司（統一編號：25140844）申請股東出資轉讓、公司遷址、修正章程變更登記，准予登記。隨案附告展育體育用品有限公司不同意審查營業場所，並請詳閱說明欄相關事項，以保障公司權益。\n",
      "展育體育用品有限公司（統一編號：25140844）申請股東出資轉讓、公司遷址、修正章程變更登記，准予登記。隨案附告展育體育用品有限公司不同意審查營業場所，並請詳閱說明欄相關事項，以保障公司權益。\n",
      "展育體育用品有限公司申請股東出資轉讓、公司遷址、修正章程變更登記，准予登記。隨案附告展育體育用品有限公司不同意審查營業場所，並請詳閱說明欄相關事項，以保障公司權益。\n",
      "展育體育用品有限公司申請股東出資轉讓、公司遷址、修正章程變更登記，准予登記。隨案附告展育體育用品有限公司不同意審查營業場所，並請詳閱說明欄相關事項，以保障公司權益。\n",
      "展育體育用品有限公司申請股東出資轉讓、公司遷址、修正章程變更登記，准予登記。\n",
      "展育體育用品有限公司申請股東出資轉讓、公司遷址、修正章程變更登記，准予登記。\n",
      "0\n",
      "沒有附件要修改\n",
      "確認無登錄附件\n",
      "已編目4筆公文\n",
      "--------------------------------------------------------分隔線--------------------------------------------------------\n",
      "友拓科技股份有限公司代理人：邱國振會計師\n",
      "貴公司申請設立登記，准予登記（統一編號：50794103），隨案附告貴公司不同意營業場所審查，請務必詳閱說明三、四、五相關事項，以保權益。\n",
      "友拓科技股份有限公司代理人：邱國振會計師申請設立登記，准予登記（統一編號：50794103），隨案附告友拓科技股份有限公司代理人：邱國振會計師不同意營業場所審查，請務必詳閱說明三、四、五相關事項，以保權益。\n",
      "友拓科技股份有限公司代理人：邱國振會計師申請設立登記，准予登記（統一編號：50794103），隨案附告友拓科技股份有限公司代理人：邱國振會計師不同意營業場所審查，請務必詳閱說明三、四、五相關事項，以保權益。\n",
      "友拓科技股份有限公司代理人：邱國振會計師申請設立登記，准予登記，隨案附告友拓科技股份有限公司代理人：邱國振會計師不同意營業場所審查，請務必詳閱說明三、四、五相關事項，以保權益。\n",
      "友拓科技股份有限公司代理人：邱國振會計師申請設立登記，准予登記，隨案附告友拓科技股份有限公司代理人：邱國振會計師不同意營業場所審查，請務必詳閱說明三、四、五相關事項，以保權益。\n",
      "友拓科技股份有限公司代理人：邱國振會計師申請設立登記，准予登記，\n",
      "友拓科技股份有限公司代理人：邱國振會計師申請設立登記，准予登記，\n",
      "4\n",
      "1\n",
      "已修改為1份\n",
      "確認無登錄附件\n",
      "已編目5筆公文\n",
      "--------------------------------------------------------分隔線--------------------------------------------------------\n",
      "本部槓鈴有限公司代理人：鄭文昌會計師\n",
      "貴公司申請設立登記，准予登記（統一編號：50793836），隨案附告營業場所查詢結果，請務必詳閱說明三、四、五相關事項，以保權益。\n",
      "本部槓鈴有限公司代理人：鄭文昌會計師申請設立登記，准予登記（統一編號：50793836），隨案附告營業場所查詢結果，請務必詳閱說明三、四、五相關事項，以保權益。\n",
      "本部槓鈴有限公司代理人：鄭文昌會計師申請設立登記，准予登記（統一編號：50793836），隨案附告營業場所查詢結果，請務必詳閱說明三、四、五相關事項，以保權益。\n",
      "本部槓鈴有限公司代理人：鄭文昌會計師申請設立登記，准予登記，隨案附告營業場所查詢結果，請務必詳閱說明三、四、五相關事項，以保權益。\n",
      "本部槓鈴有限公司代理人：鄭文昌會計師申請設立登記，准予登記，隨案附告營業場所查詢結果，請務必詳閱說明三、四、五相關事項，以保權益。\n",
      "本部槓鈴有限公司代理人：鄭文昌會計師申請設立登記，准予登記，\n",
      "本部槓鈴有限公司代理人：鄭文昌會計師申請設立登記，准予登記，\n",
      "0\n",
      "沒有附件要修改\n",
      "確認無登錄附件\n",
      "已編目6筆公文\n",
      "--------------------------------------------------------分隔線--------------------------------------------------------\n",
      "一起創生志業股份有限公司代理人：黃靜芬會計師\n",
      "貴公司（統一編號：50783978）申請公司所營事業變更、公司遷址、修正章程變更登記，准予登記。隨案附告貴公司不同意營業場所審查，請務必詳閱說明三、四、五相關事項，以保權益。\n",
      "一起創生志業股份有限公司代理人：黃靜芬會計師（統一編號：50783978）申請公司所營事業變更、公司遷址、修正章程變更登記，准予登記。隨案附告一起創生志業股份有限公司代理人：黃靜芬會計師不同意營業場所審查，請務必詳閱說明三、四、五相關事項，以保權益。\n",
      "一起創生志業股份有限公司代理人：黃靜芬會計師（統一編號：50783978）申請公司所營事業變更、公司遷址、修正章程變更登記，准予登記。隨案附告一起創生志業股份有限公司代理人：黃靜芬會計師不同意營業場所審查，請務必詳閱說明三、四、五相關事項，以保權益。\n",
      "一起創生志業股份有限公司代理人：黃靜芬會計師申請公司所營事業變更、公司遷址、修正章程變更登記，准予登記。隨案附告一起創生志業股份有限公司代理人：黃靜芬會計師不同意營業場所審查，請務必詳閱說明三、四、五相關事項，以保權益。\n",
      "一起創生志業股份有限公司代理人：黃靜芬會計師申請公司所營事業變更、公司遷址、修正章程變更登記，准予登記。隨案附告一起創生志業股份有限公司代理人：黃靜芬會計師不同意營業場所審查，請務必詳閱說明三、四、五相關事項，以保權益。\n",
      "一起創生志業股份有限公司代理人：黃靜芬會計師申請公司所營事業變更、公司遷址、修正章程變更登記，准予登記。\n",
      "一起創生志業股份有限公司代理人：黃靜芬會計師申請公司所營事業變更、公司遷址、修正章程變更登記，准予登記。\n",
      "0\n",
      "沒有附件要修改\n",
      "確認無登錄附件\n",
      "已編目7筆公文\n",
      "--------------------------------------------------------分隔線--------------------------------------------------------\n",
      "童話藝宿有限公司\n",
      "貴公司（統一編號：45122788）申請股東出資轉讓、改推董事、公司遷址、修正章程變更登記，准予登記。隨案附告營業場所查詢結果，請務必詳閱說明三、四、五相關事項，以保權益。並請詳閱說明欄相關事項，以保障公司權益，請查照。\n",
      "童話藝宿有限公司（統一編號：45122788）申請股東出資轉讓、改推董事、公司遷址、修正章程變更登記，准予登記。隨案附告營業場所查詢結果，請務必詳閱說明三、四、五相關事項，以保權益。並請詳閱說明欄相關事項，以保障公司權益。\n",
      "童話藝宿有限公司（統一編號：45122788）申請股東出資轉讓、改推董事、公司遷址、修正章程變更登記，准予登記。隨案附告營業場所查詢結果，請務必詳閱說明三、四、五相關事項，以保權益。並請詳閱說明欄相關事項，以保障公司權益。\n",
      "童話藝宿有限公司申請股東出資轉讓、改推董事、公司遷址、修正章程變更登記，准予登記。隨案附告營業場所查詢結果，請務必詳閱說明三、四、五相關事項，以保權益。並請詳閱說明欄相關事項，以保障公司權益。\n",
      "童話藝宿有限公司申請股東出資轉讓、改推董事、公司遷址、修正章程變更登記，准予登記。隨案附告營業場所查詢結果，請務必詳閱說明三、四、五相關事項，以保權益。並請詳閱說明欄相關事項，以保障公司權益。\n",
      "童話藝宿有限公司申請股東出資轉讓、改推董事、公司遷址、修正章程變更登記，准予登記。\n",
      "童話藝宿有限公司申請股東出資轉讓、改推董事、公司遷址、修正章程變更登記，准予登記。\n",
      "0\n",
      "沒有附件要修改\n",
      "確認無登錄附件\n",
      "已編目8筆公文\n",
      "--------------------------------------------------------分隔線--------------------------------------------------------\n",
      "尚易彩色印刷設計有限公司\n",
      "貴公司（統一編號：97453008）申請公司所營事業變更、修正章程變更登記，准予登記。隨案附告營業場所查詢結果，請務必詳閱說明三、四、五相關事項，以保權益。\n",
      "尚易彩色印刷設計有限公司（統一編號：97453008）申請公司所營事業變更、修正章程變更登記，准予登記。隨案附告營業場所查詢結果，請務必詳閱說明三、四、五相關事項，以保權益。\n",
      "尚易彩色印刷設計有限公司（統一編號：97453008）申請公司所營事業變更、修正章程變更登記，准予登記。隨案附告營業場所查詢結果，請務必詳閱說明三、四、五相關事項，以保權益。\n",
      "尚易彩色印刷設計有限公司申請公司所營事業變更、修正章程變更登記，准予登記。隨案附告營業場所查詢結果，請務必詳閱說明三、四、五相關事項，以保權益。\n",
      "尚易彩色印刷設計有限公司申請公司所營事業變更、修正章程變更登記，准予登記。隨案附告營業場所查詢結果，請務必詳閱說明三、四、五相關事項，以保權益。\n",
      "尚易彩色印刷設計有限公司申請公司所營事業變更、修正章程變更登記，准予登記。\n",
      "尚易彩色印刷設計有限公司申請公司所營事業變更、修正章程變更登記，准予登記。\n",
      "0\n",
      "沒有附件要修改\n",
      "確認無登錄附件\n",
      "已編目9筆公文\n",
      "--------------------------------------------------------分隔線--------------------------------------------------------\n",
      "澄邑聯合室內裝修有限公司代理人：古家維會計師\n",
      "貴公司（統一編號：53743115）申請公司名稱、所營事業、董事地址、公司遷址、修正章程變更登記，准予登記，另申請負責人印鑑變更，准予備查，隨案附告營業場所查詢結果，請務必詳閱說明三、四、五相關事項，以保權益，請查照。\n",
      "澄邑聯合室內裝修有限公司代理人：古家維會計師（統一編號：53743115）申請公司名稱、所營事業、董事地址、公司遷址、修正章程變更登記，准予登記，另申請負責人印鑑變更，准予備查，隨案附告營業場所查詢結果，請務必詳閱說明三、四、五相關事項，以保權益。\n",
      "澄邑聯合室內裝修有限公司代理人：古家維會計師（統一編號：53743115）申請公司名稱、所營事業、董事地址、公司遷址、修正章程變更登記，准予登記，另申請負責人印鑑變更，准予備查，隨案附告營業場所查詢結果，請務必詳閱說明三、四、五相關事項，以保權益。\n",
      "澄邑聯合室內裝修有限公司代理人：古家維會計師申請公司名稱、所營事業、董事地址、公司遷址、修正章程變更登記，准予登記，另申請負責人印鑑變更，准予備查，隨案附告營業場所查詢結果，請務必詳閱說明三、四、五相關事項，以保權益。\n",
      "澄邑聯合室內裝修有限公司代理人：古家維會計師申請公司名稱、所營事業、董事地址、公司遷址、修正章程變更登記，准予登記，另申請負責人印鑑變更，准予備查，隨案附告營業場所查詢結果，請務必詳閱說明三、四、五相關事項，以保權益。\n",
      "澄邑聯合室內裝修有限公司代理人：古家維會計師申請公司名稱、所營事業、董事地址、公司遷址、修正章程變更登記，准予登記，另申請負責人印鑑變更，准予備查，\n",
      "澄邑聯合室內裝修有限公司代理人：古家維會計師申請公司名稱、所營事業、董事地址、公司遷址、修正章程變更登記，准予登記，另申請負責人印鑑變更，准予備查，\n",
      "4\n",
      "5\n",
      "6\n",
      "7\n",
      "8\n",
      "5\n",
      "已修改為5份\n",
      "確認無登錄附件\n",
      "已編目10筆公文\n",
      "--------------------------------------------------------分隔線--------------------------------------------------------\n"
     ]
    }
   ],
   "source": [
    "for x in range (40):\n",
    "    select_document()\n",
    "    edit_case_number()\n",
    "    pdfText = get_PDF_string()\n",
    "    edit_case_name_by_PDF()\n",
    "    check_number_of_attachment()\n",
    "    check_insert_attach()\n",
    "    driver.find_element_by_id('doConfirm').click()\n",
    "    driver.find_element_by_id('close').click()\n",
    "    print('已編目'+str(x)+'筆公文')\n",
    "    print(\"--------------------------------------------------------分隔線--------------------------------------------------------\")\n",
    "   "
   ]
  },
  {
   "cell_type": "code",
   "execution_count": null,
   "metadata": {},
   "outputs": [],
   "source": [
    "driver.close()\n",
    "driver.switch_to.window(driver.window_handles[0])\n",
    "driver.close()\n",
    "os.execl(sys.executable, os.path.abspath('auto_edit_documents.py'), *sys.argv) "
   ]
  }
 ],
 "metadata": {
  "kernelspec": {
   "display_name": "Python 3",
   "language": "python",
   "name": "python3"
  },
  "language_info": {
   "codemirror_mode": {
    "name": "ipython",
    "version": 3
   },
   "file_extension": ".py",
   "mimetype": "text/x-python",
   "name": "python",
   "nbconvert_exporter": "python",
   "pygments_lexer": "ipython3",
   "version": "3.7.0"
  }
 },
 "nbformat": 4,
 "nbformat_minor": 2
}
