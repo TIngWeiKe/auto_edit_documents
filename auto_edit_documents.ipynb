{
 "cells": [
  {
   "cell_type": "code",
   "execution_count": 64,
   "metadata": {},
   "outputs": [],
   "source": [
    "from selenium import webdriver\n",
    "from selenium.webdriver.common.action_chains import ActionChains\n",
    "from selenium.webdriver.support.ui import WebDriverWait\n",
    "from selenium.webdriver.common.by import By\n",
    "from selenium.webdriver.support import expected_conditions as EC\n",
    "from selenium.webdriver.common.keys import Keys\n",
    "from time import sleep\n",
    "from selenium.webdriver.support.select import Select\n",
    "from selenium.common.exceptions import NoSuchElementException   \n",
    "from selenium.common.exceptions import NoSuchWindowException   \n",
    "from pdfminer.pdfinterp import PDFResourceManager, PDFPageInterpreter\n",
    "from pdfminer.converter import TextConverter\n",
    "from pdfminer.layout import LAParams\n",
    "from pdfminer.pdfpage import PDFPage\n",
    "from io import StringIO\n",
    "import os\n",
    "import sys"
   ]
  },
  {
   "cell_type": "code",
   "execution_count": 65,
   "metadata": {},
   "outputs": [
    {
     "name": "stderr",
     "output_type": "stream",
     "text": [
      "C:\\Users\\TFD\\Anaconda3\\lib\\site-packages\\ipykernel_launcher.py:6: DeprecationWarning: use options instead of chrome_options\n",
      "  \n"
     ]
    }
   ],
   "source": [
    "download_dir = \"C:\\\\Users\\\\TFD\\\\PDF\" # for linux/*nix, download_dir=\"/usr/Public\"\n",
    "options = webdriver.ChromeOptions()\n",
    "profile = {\"plugins.plugins_list\": [{\"enabled\": False, \"name\": \"Chrome PDF Viewer\"}], # Disable Chrome's PDF Viewer\n",
    "               \"download.default_directory\": download_dir , \"download.extensions_to_open\": \"applications/pdf\"}\n",
    "options.add_experimental_option(\"prefs\", profile)\n",
    "driver = webdriver.Chrome(\"C:\\\\Users\\\\TFD\\\\Anaconda3\\\\chromedriver.exe\", chrome_options=options)  # Optional argument, if not specified will search path.\n",
    "ActionChainsDriver = ActionChains(driver)\n",
    "wait = WebDriverWait(driver,10)"
   ]
  },
  {
   "cell_type": "code",
   "execution_count": 66,
   "metadata": {},
   "outputs": [],
   "source": [
    "driver.maximize_window()\n",
    "driver.get(\"https://ssopxy.gov.taipei/SSOPXY/Default.aspx\")\n",
    "id =('j0470@tfd.gov.tw')\n",
    "password = ('j180065@')"
   ]
  },
  {
   "cell_type": "code",
   "execution_count": 67,
   "metadata": {},
   "outputs": [],
   "source": [
    "driver.find_element_by_name('TextBox_userID').send_keys(id)"
   ]
  },
  {
   "cell_type": "code",
   "execution_count": 68,
   "metadata": {},
   "outputs": [],
   "source": [
    "driver.find_element_by_name('TextBox_userPwd').send_keys(password)"
   ]
  },
  {
   "cell_type": "code",
   "execution_count": 69,
   "metadata": {},
   "outputs": [],
   "source": [
    "driver.find_element_by_name('Button_Login').click()"
   ]
  },
  {
   "cell_type": "code",
   "execution_count": 70,
   "metadata": {},
   "outputs": [],
   "source": [
    "driver.find_element_by_class_name('category-button1').click()"
   ]
  },
  {
   "cell_type": "code",
   "execution_count": 71,
   "metadata": {},
   "outputs": [],
   "source": [
    "driver.find_element_by_css_selector('input[value=新公文系統]').click()"
   ]
  },
  {
   "cell_type": "code",
   "execution_count": 72,
   "metadata": {},
   "outputs": [
    {
     "name": "stdout",
     "output_type": "stream",
     "text": [
      "CDwindow-2C79DFE06528D5477C2FBB5A3CD5A4FD\n"
     ]
    }
   ],
   "source": [
    "child = driver.window_handles[1]      \n",
    "driver.switch_to.window(child)\n",
    "print(child)"
   ]
  },
  {
   "cell_type": "code",
   "execution_count": 73,
   "metadata": {},
   "outputs": [],
   "source": [
    "driver.implicitly_wait(30)\n",
    "try:\n",
    "    element = WebDriverWait(driver, 10).until(\n",
    "        EC.presence_of_element_located((By.ID, \"toSaveCheck\"))   \n",
    "        \n",
    "    )\n",
    "finally:\n",
    "    driver.find_element_by_id('toSaveCheck').click()"
   ]
  },
  {
   "cell_type": "code",
   "execution_count": 74,
   "metadata": {},
   "outputs": [],
   "source": [
    "sleep(1)\n",
    "driver.find_element_by_id('menu1487').click()"
   ]
  },
  {
   "cell_type": "code",
   "execution_count": 75,
   "metadata": {},
   "outputs": [
    {
     "name": "stdout",
     "output_type": "stream",
     "text": [
      "https://doc.gov.taipei/tcqb/home/default.jsp#\n"
     ]
    }
   ],
   "source": [
    "print (driver.current_url)"
   ]
  },
  {
   "cell_type": "code",
   "execution_count": 76,
   "metadata": {},
   "outputs": [],
   "source": [
    "driver.switch_to.frame('dTreeContent')\n",
    "driver.find_element_by_name('conditionQueryAll').click()"
   ]
  },
  {
   "cell_type": "code",
   "execution_count": 77,
   "metadata": {},
   "outputs": [],
   "source": [
    "sleep(2)\n",
    "try:\n",
    "    element = WebDriverWait(driver, 10).until(\n",
    "        EC.presence_of_element_located((By.NAME, \"q_IO_DEP1_NO\"))   \n",
    "    )\n",
    "finally:\n",
    "    driver.find_element_by_xpath(\"//select[@name='q_epaper2']/option[text()='線上']\").click()"
   ]
  },
  {
   "cell_type": "code",
   "execution_count": 78,
   "metadata": {},
   "outputs": [],
   "source": [
    "#\"BDAW-第一救災救護大隊\"\n",
    "#\"BDAX-第二救災救護大隊\"\n",
    "#\"BDAY-第三救災救護大隊\"\n",
    "#\"BDAZ-第四救災救護大隊\"\n",
    "driver.find_element_by_xpath(\"//select[@name='q_IO_DEP1_NO']/option[@value='BDAW']\").click()\n",
    "driver.find_element_by_xpath(\"//*[@id='qryModal']/div[2]/div/div[2]/div/div/div/table/tbody/tr[3]/td[4]/select/option[text()='電子收文']\").click()"
   ]
  },
  {
   "cell_type": "code",
   "execution_count": 79,
   "metadata": {},
   "outputs": [],
   "source": [
    "x = \"貴公司\"\n",
    "driver.find_element_by_name('q_ABSTRACT').clear()\n",
    "driver.find_element_by_name('q_ABSTRACT').send_keys(x)"
   ]
  },
  {
   "cell_type": "code",
   "execution_count": 80,
   "metadata": {},
   "outputs": [],
   "source": [
    "driver.find_element_by_name('querySubmit').click()"
   ]
  },
  {
   "cell_type": "code",
   "execution_count": 81,
   "metadata": {},
   "outputs": [],
   "source": [
    "def select_document():\n",
    "    sleep(1)\n",
    "    driver.switch_to.window(driver.window_handles[1])\n",
    "    driver.switch_to.frame('dTreeContent')\n",
    "    driver.find_element_by_id('table_f7').click()\n",
    "    driver.find_element_by_id('table_f7').click()\n",
    "    driver.find_element_by_xpath('//*[@id=\"listTBODY\"]/tr[1]/td[1]').click()\n",
    "    driver.find_element_by_name('000091902').click()"
   ]
  },
  {
   "cell_type": "code",
   "execution_count": 82,
   "metadata": {},
   "outputs": [],
   "source": [
    "def edit_case_number():\n",
    "    driver.find_element_by_css_selector('#u_caseno').clear()\n",
    "    driver.find_element_by_css_selector('#u_portfoliono').clear()\n",
    "    driver.find_element_by_xpath('//*[@id=\"query\"]').click()\n",
    "    sleep(2)\n",
    "    driver.switch_to.window(driver.window_handles[2])\n",
    "    def check_maximum_number():\n",
    "        if  driver.find_element_by_xpath('//*[@id=\"listTBODY\"]/tr[2]/td[6]').get_attribute('innerHTML') == \"999\":\n",
    "            m = driver.find_element_by_xpath('//*[@id=\"listTBODY\"]/tr[2]/td[5]').get_attribute('innerHTML')\n",
    "            driver.close()\n",
    "            driver.switch_to.window(driver.window_handles[1])\n",
    "            driver.switch_to.frame('dTreeContent')\n",
    "            driver.find_element_by_xpath('//*[@id=\"u_portfoliono\"]').send_keys(int(m)+1)\n",
    "            driver.find_element_by_xpath('//*[@id=\"updateBig\"]').click()\n",
    "            print(\"已修改卷殼號\")\n",
    "            sleep(2)\n",
    "            edit_case_number()\n",
    "        else:\n",
    "            driver.find_element_by_xpath('//*[@id=\"listTBODY\"]/tr[2]/td[6]').click()\n",
    "    check_maximum_number()       \n",
    "    #一大線上 '#listTBODY > tr:nth-child(2)'\n",
    "    #二大線上 '#listTBODY > tr:nth-child(4)'\n",
    "    #三大線上 '#listTBODY > tr:nth-child(6)'\n",
    "    #四大線上 '#listTBODY > tr:nth-child(8)'"
   ]
  },
  {
   "cell_type": "code",
   "execution_count": 83,
   "metadata": {},
   "outputs": [],
   "source": [
    "def get_PDF_string():\n",
    "    driver.switch_to.window(driver.window_handles[1])\n",
    "    driver.switch_to.frame('dTreeContent')\n",
    "    driver.find_element_by_xpath('//*[@id=\"queryTitle\"]/table/tbody/tr[5]/td[2]/input[3]').click()\n",
    "    child3 = driver.window_handles[2]\n",
    "    driver.switch_to.window(child3)\n",
    "    sleep(3)\n",
    "    def get_PDF_url():\n",
    "        source = driver.page_source\n",
    "        startPDF_url=source.find('blob:https://doc.')\n",
    "        namePDF_url =source.find('blob:https://doc.gov.taipei/')\n",
    "        EndPDF_url = source.find('\">',startPDF_url)\n",
    "        PDF_url =source[startPDF_url:EndPDF_url]\n",
    "        PDF_name = source[startPDF_url+28:EndPDF_url]\n",
    "        print(PDF_url)\n",
    "        print(PDF_name)\n",
    "        driver.get(PDF_url)\n",
    "        sleep(3)\n",
    "        return PDF_name\n",
    "        \n",
    "    def convert_pdf_to_txt(path):\n",
    "        rsrcmgr = PDFResourceManager()\n",
    "        retstr = StringIO()\n",
    "        codec = 'utf-8'\n",
    "        laparams = LAParams()\n",
    "        device = TextConverter(rsrcmgr, retstr, codec=codec, laparams=laparams)\n",
    "        fp = open(path, 'rb')\n",
    "        interpreter = PDFPageInterpreter(rsrcmgr, device)\n",
    "        password = \"\"\n",
    "        maxpages = 0\n",
    "        caching = True\n",
    "        pagenos=set()\n",
    "\n",
    "        for page in PDFPage.get_pages(fp, pagenos, maxpages=maxpages, password=password,caching=caching, check_extractable=True):\n",
    "            interpreter.process_page(page)\n",
    "\n",
    "        text = retstr.getvalue()\n",
    "\n",
    "        fp.close()\n",
    "        device.close()\n",
    "        retstr.close()\n",
    "        return text\n",
    "    try:\n",
    "        sleep(2)\n",
    "        p = get_PDF_url()\n",
    "    except:\n",
    "        sleep(2)\n",
    "        p = get_PDF_url()\n",
    "    PDF_path = \"PDF\\\\\"+ p + \".pdf\"\n",
    "    return convert_pdf_to_txt(PDF_path)"
   ]
  },
  {
   "cell_type": "code",
   "execution_count": 84,
   "metadata": {},
   "outputs": [],
   "source": [
    "def edit_case_name_by_PDF():\n",
    "    companyName = pdfText[pdfText.find('正本：')+3:pdfText.find('副本：')]\n",
    "    print(companyName)\n",
    "    driver.switch_to.window(driver.window_handles[1])\n",
    "    driver.switch_to.frame('dTreeContent')\n",
    "    # 獲取原始案由\n",
    "    text = driver.find_element_by_id('u_abstractMain').get_attribute('value')\n",
    "    print(text)\n",
    "    #處理貴公司字串\n",
    "    text = text.replace('貴公司',companyName)\n",
    "    #處理查照字串\n",
    "    x= text.find(\"，復請查照\")\n",
    "    if x == - 1:\n",
    "        x=text.find(\"，請查照\")\n",
    "        if x == -1:\n",
    "            print(text)\n",
    "        else :\n",
    "            text = text.replace(text[x:x+4],\"\")\n",
    "            print(text)\n",
    "    else:\n",
    "        text = text.replace(text[x:x+5],\"\")\n",
    "        print(text)\n",
    "    print(text)\n",
    "    #處理統一編號\n",
    "    x=text.find(\"【分公司\")\n",
    "    if x == - 1:\n",
    "        x=text.find(\"（統一編號\")\n",
    "        if x == -1:\n",
    "            print(text)\n",
    "        else :\n",
    "            text = text.replace(text[x:x+15],\"\")\n",
    "            print(text)\n",
    "    else:\n",
    "        text = text.replace(text[x:x+18],\"\")\n",
    "        print(text)\n",
    "    print(text)\n",
    "    #處理隨案附告\n",
    "    x=text.find(\"另隨案附告\")\n",
    "    if x == -1:\n",
    "        x = text.find('隨案附告')\n",
    "        if x == - 1:\n",
    "            print(text)\n",
    "        else:\n",
    "            text = text.replace(text[x:len(text)],\"\")\n",
    "            print(text)\n",
    "    else:\n",
    "        text = text.replace(text[x:len(text)],\"\")\n",
    "    #處理句號後冗長語句\n",
    "    x= text.find('。')\n",
    "    if x +1 != len(text):\n",
    "        text = text.replace(text[x:len(text)-1],\"\")\n",
    "        print(text)\n",
    "    else:\n",
    "        print(text)\n",
    "\n",
    "    driver.find_element_by_id('u_abstractMain').clear()\n",
    "    driver.find_element_by_id('u_abstractMain').send_keys(text)"
   ]
  },
  {
   "cell_type": "code",
   "execution_count": 85,
   "metadata": {
    "scrolled": false
   },
   "outputs": [],
   "source": [
    "def check_number_of_attachment():\n",
    "    driver.switch_to.window(driver.window_handles[2])\n",
    "    driver.switch_to.default_content()\n",
    "    source = driver.page_source\n",
    "    s = source.find('共')\n",
    "    y = source.find('件',s)\n",
    "    if s != -1 and y != -1 :\n",
    "        driver.switch_to.window(driver.window_handles[1])\n",
    "        driver.switch_to.frame('dTreeContent')\n",
    "        driver.find_element_by_name('u_mediunQty').clear()\n",
    "        driver.find_element_by_name('u_mediunQty').send_keys(source[s+1:y])\n",
    "        driver.switch_to.window(driver.window_handles[2])\n",
    "        print(\"已修改為\"+source[s+1:y]+\"份\")\n",
    "    else:\n",
    "        print('沒有附件')\n",
    "    driver.close()\n",
    "    driver.switch_to.window(driver.window_handles[1])\n",
    "    driver.switch_to.frame('dTreeContent')\n"
   ]
  },
  {
   "cell_type": "code",
   "execution_count": 86,
   "metadata": {
    "scrolled": true
   },
   "outputs": [],
   "source": [
    "def check_insert_attach():\n",
    "    driver.find_element_by_id('insertAttach').click()\n",
    "    driver.switch_to.window(driver.window_handles[2])\n",
    "    s = driver.find_element_by_xpath('//*[@id=\"listTBODY\"]/tr/td').get_attribute('innerHTML')\n",
    "    if s != \"查無資料，請您重新輸入查詢條件！\":\n",
    "        driver.find_element_by_xpath('//*[@id=\"listTBODY\"]/tr/td[2]').click()\n",
    "        driver.find_element_by_xpath('//*[@id=\"spanDelete\"]/input').click()\n",
    "        driver.switch_to.alert.accept()\n",
    "        driver.switch_to.window(driver.window_handles[2])\n",
    "        print(\"已將登陸附件刪除\")\n",
    "    else: \n",
    "        print(\"確認無登錄附件\")\n",
    "    driver.close()\n",
    "    driver.switch_to.window(driver.window_handles[1])\n",
    "    driver.switch_to.frame('dTreeContent')"
   ]
  },
  {
   "cell_type": "code",
   "execution_count": null,
   "metadata": {
    "scrolled": false
   },
   "outputs": [
    {
     "name": "stdout",
     "output_type": "stream",
     "text": [
      "blob:https://doc.gov.taipei/c3ca0d2c-1c3f-4f29-9139-14d081ae3879\n",
      "c3ca0d2c-1c3f-4f29-9139-14d081ae3879\n",
      "寶立行銷股份有限公司西門町旗艦店\n",
      "貴公司107年07月10日依加值型及非加值型營業稅法(以下簡稱營業稅法)第28條及稅籍登記規則第3條規定，申請稅籍設立登記一案，稅務部分准予辦理，請查照。\n",
      "寶立行銷股份有限公司西門町旗艦店107年07月10日依加值型及非加值型營業稅法(以下簡稱營業稅法)第28條及稅籍登記規則第3條規定，申請稅籍設立登記一案，稅務部分准予辦理。\n",
      "寶立行銷股份有限公司西門町旗艦店107年07月10日依加值型及非加值型營業稅法(以下簡稱營業稅法)第28條及稅籍登記規則第3條規定，申請稅籍設立登記一案，稅務部分准予辦理。\n",
      "寶立行銷股份有限公司西門町旗艦店107年07月10日依加值型及非加值型營業稅法(以下簡稱營業稅法)第28條及稅籍登記規則第3條規定，申請稅籍設立登記一案，稅務部分准予辦理。\n",
      "寶立行銷股份有限公司西門町旗艦店107年07月10日依加值型及非加值型營業稅法(以下簡稱營業稅法)第28條及稅籍登記規則第3條規定，申請稅籍設立登記一案，稅務部分准予辦理。\n",
      "寶立行銷股份有限公司西門町旗艦店107年07月10日依加值型及非加值型營業稅法(以下簡稱營業稅法)第28條及稅籍登記規則第3條規定，申請稅籍設立登記一案，稅務部分准予辦理。\n",
      "寶立行銷股份有限公司西門町旗艦店107年07月10日依加值型及非加值型營業稅法(以下簡稱營業稅法)第28條及稅籍登記規則第3條規定，申請稅籍設立登記一案，稅務部分准予辦理。\n",
      "沒有附件\n",
      "確認無登錄附件\n",
      "已編目1筆公文\n",
      "--------------------------------------------------------分隔線--------------------------------------------------------\n",
      "blob:https://doc.gov.taipei/a5194010-6d61-4fbb-9756-c4f6c6d88b24\n",
      "a5194010-6d61-4fbb-9756-c4f6c6d88b24\n",
      "長頸鹿文化事業股份有限公司代理人：何嘉容會計師\n",
      "貴公司（統一編號：86323471）申請減資、改選董事、監察人、改選董事長、公司遷址、修正章程變更登記，准予登記。隨案附告貴公司不同意營業場所審查，請務必詳閱說明三、四、五相關事項，以保權益，請查照。\n",
      "長頸鹿文化事業股份有限公司代理人：何嘉容會計師（統一編號：86323471）申請減資、改選董事、監察人、改選董事長、公司遷址、修正章程變更登記，准予登記。隨案附告長頸鹿文化事業股份有限公司代理人：何嘉容會計師不同意營業場所審查，請務必詳閱說明三、四、五相關事項，以保權益。\n",
      "長頸鹿文化事業股份有限公司代理人：何嘉容會計師（統一編號：86323471）申請減資、改選董事、監察人、改選董事長、公司遷址、修正章程變更登記，准予登記。隨案附告長頸鹿文化事業股份有限公司代理人：何嘉容會計師不同意營業場所審查，請務必詳閱說明三、四、五相關事項，以保權益。\n",
      "長頸鹿文化事業股份有限公司代理人：何嘉容會計師申請減資、改選董事、監察人、改選董事長、公司遷址、修正章程變更登記，准予登記。隨案附告長頸鹿文化事業股份有限公司代理人：何嘉容會計師不同意營業場所審查，請務必詳閱說明三、四、五相關事項，以保權益。\n",
      "長頸鹿文化事業股份有限公司代理人：何嘉容會計師申請減資、改選董事、監察人、改選董事長、公司遷址、修正章程變更登記，准予登記。隨案附告長頸鹿文化事業股份有限公司代理人：何嘉容會計師不同意營業場所審查，請務必詳閱說明三、四、五相關事項，以保權益。\n",
      "長頸鹿文化事業股份有限公司代理人：何嘉容會計師申請減資、改選董事、監察人、改選董事長、公司遷址、修正章程變更登記，准予登記。\n",
      "長頸鹿文化事業股份有限公司代理人：何嘉容會計師申請減資、改選董事、監察人、改選董事長、公司遷址、修正章程變更登記，准予登記。\n",
      "沒有附件\n",
      "確認無登錄附件\n",
      "已編目2筆公文\n",
      "--------------------------------------------------------分隔線--------------------------------------------------------\n",
      "blob:https://doc.gov.taipei/33eacdd2-c479-4bbe-83e1-3f7bff60fb86\n",
      "33eacdd2-c479-4bbe-83e1-3f7bff60fb86\n",
      "夢想啟程國際有限公司\n",
      "貴公司（統一編號：42995612）申請增資、公司所營事業變更、公司遷址、修正章程變更登記，准予登記。隨案附告貴公司不同意營業場所審查，請務必詳閱說明三、四、五相關事項，以保權益。\n",
      "夢想啟程國際有限公司（統一編號：42995612）申請增資、公司所營事業變更、公司遷址、修正章程變更登記，准予登記。隨案附告夢想啟程國際有限公司不同意營業場所審查，請務必詳閱說明三、四、五相關事項，以保權益。\n",
      "夢想啟程國際有限公司（統一編號：42995612）申請增資、公司所營事業變更、公司遷址、修正章程變更登記，准予登記。隨案附告夢想啟程國際有限公司不同意營業場所審查，請務必詳閱說明三、四、五相關事項，以保權益。\n",
      "夢想啟程國際有限公司申請增資、公司所營事業變更、公司遷址、修正章程變更登記，准予登記。隨案附告夢想啟程國際有限公司不同意營業場所審查，請務必詳閱說明三、四、五相關事項，以保權益。\n",
      "夢想啟程國際有限公司申請增資、公司所營事業變更、公司遷址、修正章程變更登記，准予登記。隨案附告夢想啟程國際有限公司不同意營業場所審查，請務必詳閱說明三、四、五相關事項，以保權益。\n",
      "夢想啟程國際有限公司申請增資、公司所營事業變更、公司遷址、修正章程變更登記，准予登記。\n",
      "夢想啟程國際有限公司申請增資、公司所營事業變更、公司遷址、修正章程變更登記，准予登記。\n",
      "沒有附件\n",
      "確認無登錄附件\n",
      "已編目3筆公文\n",
      "--------------------------------------------------------分隔線--------------------------------------------------------\n",
      "blob:https://doc.gov.taipei/b83689c1-d1e0-41ee-9d4d-5d05aeb10145\n",
      "b83689c1-d1e0-41ee-9d4d-5d05aeb10145\n",
      "育年企業股份有限公司\n",
      "貴公司（統一編號：80286506）申請公司所營事業變更、修正章程變更登記，准予登記。隨案附告營業場所查詢結果，請務必詳閱說明三、四、五相關事項，以保權益。並請詳閱說明欄相關事項，以保障公司權益，請查照。\n",
      "育年企業股份有限公司（統一編號：80286506）申請公司所營事業變更、修正章程變更登記，准予登記。隨案附告營業場所查詢結果，請務必詳閱說明三、四、五相關事項，以保權益。並請詳閱說明欄相關事項，以保障公司權益。\n",
      "育年企業股份有限公司（統一編號：80286506）申請公司所營事業變更、修正章程變更登記，准予登記。隨案附告營業場所查詢結果，請務必詳閱說明三、四、五相關事項，以保權益。並請詳閱說明欄相關事項，以保障公司權益。\n",
      "育年企業股份有限公司申請公司所營事業變更、修正章程變更登記，准予登記。隨案附告營業場所查詢結果，請務必詳閱說明三、四、五相關事項，以保權益。並請詳閱說明欄相關事項，以保障公司權益。\n",
      "育年企業股份有限公司申請公司所營事業變更、修正章程變更登記，准予登記。隨案附告營業場所查詢結果，請務必詳閱說明三、四、五相關事項，以保權益。並請詳閱說明欄相關事項，以保障公司權益。\n",
      "育年企業股份有限公司申請公司所營事業變更、修正章程變更登記，准予登記。\n",
      "育年企業股份有限公司申請公司所營事業變更、修正章程變更登記，准予登記。\n",
      "沒有附件\n",
      "確認無登錄附件\n",
      "已編目4筆公文\n",
      "--------------------------------------------------------分隔線--------------------------------------------------------\n",
      "blob:https://doc.gov.taipei/b7f79608-94dd-44f9-89e3-f69bb5545cce\n",
      "b7f79608-94dd-44f9-89e3-f69bb5545cce\n",
      "異國娛樂有限公司\n",
      "貴公司（統一編號：24964709）申請公司遷址變更登記，准予登記。隨案附告貴公司不同意營業場所審查，請務必詳閱說明三、四、五相關事項，以保權益。\n",
      "異國娛樂有限公司（統一編號：24964709）申請公司遷址變更登記，准予登記。隨案附告異國娛樂有限公司不同意營業場所審查，請務必詳閱說明三、四、五相關事項，以保權益。\n",
      "異國娛樂有限公司（統一編號：24964709）申請公司遷址變更登記，准予登記。隨案附告異國娛樂有限公司不同意營業場所審查，請務必詳閱說明三、四、五相關事項，以保權益。\n",
      "異國娛樂有限公司申請公司遷址變更登記，准予登記。隨案附告異國娛樂有限公司不同意營業場所審查，請務必詳閱說明三、四、五相關事項，以保權益。\n",
      "異國娛樂有限公司申請公司遷址變更登記，准予登記。隨案附告異國娛樂有限公司不同意營業場所審查，請務必詳閱說明三、四、五相關事項，以保權益。\n",
      "異國娛樂有限公司申請公司遷址變更登記，准予登記。\n",
      "異國娛樂有限公司申請公司遷址變更登記，准予登記。\n",
      "沒有附件\n",
      "確認無登錄附件\n",
      "已編目5筆公文\n",
      "--------------------------------------------------------分隔線--------------------------------------------------------\n",
      "blob:https://doc.gov.taipei/85dc7bc5-d5be-4706-9d0c-f16aae6dd621\n",
      "85dc7bc5-d5be-4706-9d0c-f16aae6dd621\n",
      "賀木堂股份有限公司\n",
      "貴公司（統一編號：53087862）申請公司所營事業變更、修正章程變更登記，准予登記。並請詳閱說明欄相關事項，以保障公司權益，請查照。\n",
      "賀木堂股份有限公司（統一編號：53087862）申請公司所營事業變更、修正章程變更登記，准予登記。並請詳閱說明欄相關事項，以保障公司權益。\n",
      "賀木堂股份有限公司（統一編號：53087862）申請公司所營事業變更、修正章程變更登記，准予登記。並請詳閱說明欄相關事項，以保障公司權益。\n",
      "賀木堂股份有限公司申請公司所營事業變更、修正章程變更登記，准予登記。並請詳閱說明欄相關事項，以保障公司權益。\n",
      "賀木堂股份有限公司申請公司所營事業變更、修正章程變更登記，准予登記。並請詳閱說明欄相關事項，以保障公司權益。\n",
      "賀木堂股份有限公司申請公司所營事業變更、修正章程變更登記，准予登記。並請詳閱說明欄相關事項，以保障公司權益。\n",
      "賀木堂股份有限公司申請公司所營事業變更、修正章程變更登記，准予登記。\n",
      "沒有附件\n",
      "確認無登錄附件\n",
      "已編目6筆公文\n",
      "--------------------------------------------------------分隔線--------------------------------------------------------\n",
      "blob:https://doc.gov.taipei/7bfaaa71-0409-4c1a-a1c0-6c6f7d6d1998\n",
      "7bfaaa71-0409-4c1a-a1c0-6c6f7d6d1998\n",
      "金良科技股份有限公司\n",
      "貴公司（統一編號：52436440）申請公司所營事業變更、修正章程變更登記，准予登記。並請詳閱說明欄相關事項，以保障公司權益，請查照。隨案附告貴公司不同意營業場所審查，請務必詳閱說明三、四、五相關事項，以保權益。\n",
      "金良科技股份有限公司（統一編號：52436440）申請公司所營事業變更、修正章程變更登記，准予登記。並請詳閱說明欄相關事項，以保障公司權益。隨案附告金良科技股份有限公司不同意營業場所審查，請務必詳閱說明三、四、五相關事項，以保權益。\n",
      "金良科技股份有限公司（統一編號：52436440）申請公司所營事業變更、修正章程變更登記，准予登記。並請詳閱說明欄相關事項，以保障公司權益。隨案附告金良科技股份有限公司不同意營業場所審查，請務必詳閱說明三、四、五相關事項，以保權益。\n",
      "金良科技股份有限公司申請公司所營事業變更、修正章程變更登記，准予登記。並請詳閱說明欄相關事項，以保障公司權益。隨案附告金良科技股份有限公司不同意營業場所審查，請務必詳閱說明三、四、五相關事項，以保權益。\n",
      "金良科技股份有限公司申請公司所營事業變更、修正章程變更登記，准予登記。並請詳閱說明欄相關事項，以保障公司權益。隨案附告金良科技股份有限公司不同意營業場所審查，請務必詳閱說明三、四、五相關事項，以保權益。\n",
      "金良科技股份有限公司申請公司所營事業變更、修正章程變更登記，准予登記。並請詳閱說明欄相關事項，以保障公司權益。\n",
      "金良科技股份有限公司申請公司所營事業變更、修正章程變更登記，准予登記。\n",
      "沒有附件\n",
      "確認無登錄附件\n",
      "已編目7筆公文\n",
      "--------------------------------------------------------分隔線--------------------------------------------------------\n",
      "blob:https://doc.gov.taipei/9ab1a68a-5f2e-4f75-91ed-ac47c600d908\n",
      "9ab1a68a-5f2e-4f75-91ed-ac47c600d908\n",
      "華山營造有限公司\n",
      "貴公司（統一編號：00295089）申請公司遷址、申登機關變更（遷入含卷)、修正章程變更登記，准予登記。並請詳閱說明欄相關事項，以保障公司權益，請查照。\n",
      "華山營造有限公司（統一編號：00295089）申請公司遷址、申登機關變更（遷入含卷)、修正章程變更登記，准予登記。並請詳閱說明欄相關事項，以保障公司權益。\n",
      "華山營造有限公司（統一編號：00295089）申請公司遷址、申登機關變更（遷入含卷)、修正章程變更登記，准予登記。並請詳閱說明欄相關事項，以保障公司權益。\n",
      "華山營造有限公司申請公司遷址、申登機關變更（遷入含卷)、修正章程變更登記，准予登記。並請詳閱說明欄相關事項，以保障公司權益。\n",
      "華山營造有限公司申請公司遷址、申登機關變更（遷入含卷)、修正章程變更登記，准予登記。並請詳閱說明欄相關事項，以保障公司權益。\n",
      "華山營造有限公司申請公司遷址、申登機關變更（遷入含卷)、修正章程變更登記，准予登記。並請詳閱說明欄相關事項，以保障公司權益。\n",
      "華山營造有限公司申請公司遷址、申登機關變更（遷入含卷)、修正章程變更登記，准予登記。\n",
      "沒有附件\n",
      "確認無登錄附件\n",
      "已編目8筆公文\n",
      "--------------------------------------------------------分隔線--------------------------------------------------------\n",
      "blob:https://doc.gov.taipei/650747ac-3dfe-45f3-95b6-fb9782a94d3e\n",
      "650747ac-3dfe-45f3-95b6-fb9782a94d3e\n",
      "偉創生技股份有限公司\n",
      "貴公司（統一編號：24368569）申請改選董事、監察人、改選董事長、公司遷址變更登記，准予登記。隨案附告營業場所查詢結果，請務必詳閱說明三、四、五相關事項，以保權益。\n",
      "偉創生技股份有限公司（統一編號：24368569）申請改選董事、監察人、改選董事長、公司遷址變更登記，准予登記。隨案附告營業場所查詢結果，請務必詳閱說明三、四、五相關事項，以保權益。\n",
      "偉創生技股份有限公司（統一編號：24368569）申請改選董事、監察人、改選董事長、公司遷址變更登記，准予登記。隨案附告營業場所查詢結果，請務必詳閱說明三、四、五相關事項，以保權益。\n",
      "偉創生技股份有限公司申請改選董事、監察人、改選董事長、公司遷址變更登記，准予登記。隨案附告營業場所查詢結果，請務必詳閱說明三、四、五相關事項，以保權益。\n",
      "偉創生技股份有限公司申請改選董事、監察人、改選董事長、公司遷址變更登記，准予登記。隨案附告營業場所查詢結果，請務必詳閱說明三、四、五相關事項，以保權益。\n",
      "偉創生技股份有限公司申請改選董事、監察人、改選董事長、公司遷址變更登記，准予登記。\n",
      "偉創生技股份有限公司申請改選董事、監察人、改選董事長、公司遷址變更登記，准予登記。\n",
      "沒有附件\n",
      "確認無登錄附件\n",
      "已編目9筆公文\n",
      "--------------------------------------------------------分隔線--------------------------------------------------------\n",
      "blob:https://doc.gov.taipei/3f284034-a7a2-4710-8308-d15ee3788d2c\n",
      "3f284034-a7a2-4710-8308-d15ee3788d2c\n",
      "太瑞有限公司\n",
      "貴公司（統一編號：54678801）申請增資、公司遷址、修正章程變更登記，准予登記，隨案附告營業場所查詢結果，請務必詳閱說明三、四、五相關事項，以保權益，請查照。\n",
      "太瑞有限公司（統一編號：54678801）申請增資、公司遷址、修正章程變更登記，准予登記，隨案附告營業場所查詢結果，請務必詳閱說明三、四、五相關事項，以保權益。\n",
      "太瑞有限公司（統一編號：54678801）申請增資、公司遷址、修正章程變更登記，准予登記，隨案附告營業場所查詢結果，請務必詳閱說明三、四、五相關事項，以保權益。\n",
      "太瑞有限公司申請增資、公司遷址、修正章程變更登記，准予登記，隨案附告營業場所查詢結果，請務必詳閱說明三、四、五相關事項，以保權益。\n",
      "太瑞有限公司申請增資、公司遷址、修正章程變更登記，准予登記，隨案附告營業場所查詢結果，請務必詳閱說明三、四、五相關事項，以保權益。\n",
      "太瑞有限公司申請增資、公司遷址、修正章程變更登記，准予登記，\n",
      "太瑞有限公司申請增資、公司遷址、修正章程變更登記，准予登記，\n",
      "沒有附件\n",
      "確認無登錄附件\n",
      "已編目10筆公文\n",
      "--------------------------------------------------------分隔線--------------------------------------------------------\n",
      "blob:https://doc.gov.taipei/498b7103-910c-465f-8bed-f10bd80a9115\n",
      "498b7103-910c-465f-8bed-f10bd80a9115\n",
      "漢祥西服有限公司\n",
      "貴公司（統一編號：15804961）申請公司遷址、修正章程、股東地址變更登記，准予登記。隨案附告貴公司不同意營業場所審查，請務必詳閱說明三、四、五相關事項，以保權益。並請詳閱說明欄相關事項，以保障公司權益，請查照。\n",
      "漢祥西服有限公司（統一編號：15804961）申請公司遷址、修正章程、股東地址變更登記，准予登記。隨案附告漢祥西服有限公司不同意營業場所審查，請務必詳閱說明三、四、五相關事項，以保權益。並請詳閱說明欄相關事項，以保障公司權益。\n",
      "漢祥西服有限公司（統一編號：15804961）申請公司遷址、修正章程、股東地址變更登記，准予登記。隨案附告漢祥西服有限公司不同意營業場所審查，請務必詳閱說明三、四、五相關事項，以保權益。並請詳閱說明欄相關事項，以保障公司權益。\n",
      "漢祥西服有限公司申請公司遷址、修正章程、股東地址變更登記，准予登記。隨案附告漢祥西服有限公司不同意營業場所審查，請務必詳閱說明三、四、五相關事項，以保權益。並請詳閱說明欄相關事項，以保障公司權益。\n",
      "漢祥西服有限公司申請公司遷址、修正章程、股東地址變更登記，准予登記。隨案附告漢祥西服有限公司不同意營業場所審查，請務必詳閱說明三、四、五相關事項，以保權益。並請詳閱說明欄相關事項，以保障公司權益。\n",
      "漢祥西服有限公司申請公司遷址、修正章程、股東地址變更登記，准予登記。\n",
      "漢祥西服有限公司申請公司遷址、修正章程、股東地址變更登記，准予登記。\n"
     ]
    },
    {
     "name": "stdout",
     "output_type": "stream",
     "text": [
      "沒有附件\n",
      "確認無登錄附件\n",
      "已編目11筆公文\n",
      "--------------------------------------------------------分隔線--------------------------------------------------------\n",
      "blob:https://doc.gov.taipei/ae7fd128-2750-43bc-9080-6f7d1cc71b65\n",
      "ae7fd128-2750-43bc-9080-6f7d1cc71b65\n",
      "輝傑風險管理顧問有限公司\n",
      "貴公司（統一編號：54341238）申請公司遷址變更登記，准予登記。並請詳閱說明欄相關事項，以保障公司權益，請查照。\n",
      "輝傑風險管理顧問有限公司（統一編號：54341238）申請公司遷址變更登記，准予登記。並請詳閱說明欄相關事項，以保障公司權益。\n",
      "輝傑風險管理顧問有限公司（統一編號：54341238）申請公司遷址變更登記，准予登記。並請詳閱說明欄相關事項，以保障公司權益。\n",
      "輝傑風險管理顧問有限公司申請公司遷址變更登記，准予登記。並請詳閱說明欄相關事項，以保障公司權益。\n",
      "輝傑風險管理顧問有限公司申請公司遷址變更登記，准予登記。並請詳閱說明欄相關事項，以保障公司權益。\n",
      "輝傑風險管理顧問有限公司申請公司遷址變更登記，准予登記。並請詳閱說明欄相關事項，以保障公司權益。\n",
      "輝傑風險管理顧問有限公司申請公司遷址變更登記，准予登記。\n",
      "沒有附件\n",
      "確認無登錄附件\n",
      "已編目12筆公文\n",
      "--------------------------------------------------------分隔線--------------------------------------------------------\n"
     ]
    }
   ],
   "source": [
    "t = 1\n",
    "for x in range (40):\n",
    "    select_document()\n",
    "    edit_case_number()\n",
    "    pdfText = get_PDF_string()\n",
    "    edit_case_name_by_PDF()\n",
    "    check_number_of_attachment()\n",
    "    check_insert_attach()\n",
    "    driver.find_element_by_id('doConfirm').click()\n",
    "    driver.find_element_by_id('close').click()\n",
    "    print('已編目'+str(t)+'筆公文')\n",
    "    print(\"--------------------------------------------------------分隔線--------------------------------------------------------\")\n",
    "    t += 1\n",
    "\n",
    "    "
   ]
  },
  {
   "cell_type": "code",
   "execution_count": null,
   "metadata": {},
   "outputs": [],
   "source": [
    "driver.close()\n",
    "driver.switch_to.window(driver.window_handles[0])\n",
    "driver.close()\n",
    "os.execl(sys.executable, os.path.abspath('編目final.py'), *sys.argv) "
   ]
  }
 ],
 "metadata": {
  "kernelspec": {
   "display_name": "Python 3",
   "language": "python",
   "name": "python3"
  },
  "language_info": {
   "codemirror_mode": {
    "name": "ipython",
    "version": 3
   },
   "file_extension": ".py",
   "mimetype": "text/x-python",
   "name": "python",
   "nbconvert_exporter": "python",
   "pygments_lexer": "ipython3",
   "version": "3.7.0"
  }
 },
 "nbformat": 4,
 "nbformat_minor": 2
}
